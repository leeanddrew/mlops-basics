{
 "cells": [
  {
   "cell_type": "markdown",
   "id": "8a9392f4",
   "metadata": {},
   "source": [
    "# Dataset"
   ]
  },
  {
   "cell_type": "code",
   "execution_count": 19,
   "id": "91dbd3a8",
   "metadata": {},
   "outputs": [],
   "source": [
    "#hugging face datasets from https://huggingface.co/docs/datasets/en/quickstart\n",
    "#!pip install datasets\n",
    "#!pip install pytorch-lightning\n",
    "#!pip install transformers"
   ]
  },
  {
   "cell_type": "code",
   "execution_count": 20,
   "id": "31ce2643",
   "metadata": {},
   "outputs": [],
   "source": [
    "from datasets import load_dataset\n",
    "\n",
    "cola_dataset = load_dataset(\"glue\",\"cola\")"
   ]
  },
  {
   "cell_type": "code",
   "execution_count": 21,
   "id": "fd4c7029",
   "metadata": {},
   "outputs": [
    {
     "name": "stdout",
     "output_type": "stream",
     "text": [
      "DatasetDict({\n",
      "    train: Dataset({\n",
      "        features: ['sentence', 'label', 'idx'],\n",
      "        num_rows: 8551\n",
      "    })\n",
      "    validation: Dataset({\n",
      "        features: ['sentence', 'label', 'idx'],\n",
      "        num_rows: 1043\n",
      "    })\n",
      "    test: Dataset({\n",
      "        features: ['sentence', 'label', 'idx'],\n",
      "        num_rows: 1063\n",
      "    })\n",
      "})\n"
     ]
    }
   ],
   "source": [
    "print(cola_dataset)"
   ]
  },
  {
   "cell_type": "code",
   "execution_count": 22,
   "id": "63c1a1f9",
   "metadata": {},
   "outputs": [
    {
     "name": "stdout",
     "output_type": "stream",
     "text": [
      "{'sentence': \"Our friends won't buy this analysis, let alone the next one we propose.\", 'label': 1, 'idx': 0}\n"
     ]
    }
   ],
   "source": [
    "train_dataset = cola_dataset['train']\n",
    "print(train_dataset[0])"
   ]
  },
  {
   "cell_type": "code",
   "execution_count": 23,
   "id": "c21814a4",
   "metadata": {},
   "outputs": [
    {
     "data": {
      "text/plain": [
       "{'train': (8551, 3), 'validation': (1043, 3), 'test': (1063, 3)}"
      ]
     },
     "execution_count": 23,
     "metadata": {},
     "output_type": "execute_result"
    }
   ],
   "source": [
    "cola_dataset.shape"
   ]
  },
  {
   "cell_type": "markdown",
   "id": "22e81cbe",
   "metadata": {},
   "source": [
    "# Data Loader"
   ]
  },
  {
   "cell_type": "code",
   "execution_count": 73,
   "id": "c1d04e1c",
   "metadata": {},
   "outputs": [],
   "source": [
    "import pytorch_lightning as pl\n",
    "import torch\n",
    "import torch.nn as nn\n",
    "import torch.nn.functional as F\n",
    "from sklearn.metrics import accuracy_score\n",
    "from transformers import AutoTokenizer,AutoModel"
   ]
  },
  {
   "cell_type": "code",
   "execution_count": 65,
   "id": "caad13db",
   "metadata": {},
   "outputs": [],
   "source": [
    "class DataModule(pl.LightningDataModule):\n",
    "    def __init__(self,model_name=\"google/bert_uncased_L-2_H-128_A-2\",batch_size=32):\n",
    "        super().__init__()\n",
    "        \n",
    "        self.batch_size = batch_size\n",
    "        self.tokenizer = AutoTokenizer.from_pretrained(model_name)\n",
    "    \n",
    "    def prepare_data(self):\n",
    "        cola_dataset = load_dataset(\"glue\",\"cola\")\n",
    "        self.train_data = cola_dataset[\"train\"]\n",
    "        self.val_data = cola_dataset['validation']\n",
    "    \n",
    "    def tokenize_data(self, example):\n",
    "        return self.tokenizer(\n",
    "            example[\"sentence\"],\n",
    "            truncation=True,\n",
    "            padding=\"max_length\",\n",
    "            max_length=256\n",
    "        )\n",
    "    \n",
    "    def setup(self, stage=None):\n",
    "        if stage == \"fit\" or stage is None:\n",
    "            self.train_data = self.train_data.map(self.tokenize_data, batched=True)\n",
    "            self.train_data.set_format(\n",
    "                type=\"torch\", columns=[\"input_ids\",\"attention_mask\",\"label\"]\n",
    "            )\n",
    "            \n",
    "            self.val_data = self.val_data.map(self.tokenize_data, batched=True)\n",
    "            self.val_data.set_format(\n",
    "                type=\"torch\", columns=[\"input_ids\", \"attention_mask\", \"label\"]\n",
    "            )\n",
    "    \n",
    "    def train_dataloader(self):\n",
    "        return torch.utils.data.DataLoader(\n",
    "            self.train_data, batch_size=self.batch_size, shuffle=True\n",
    "        )\n",
    "    \n",
    "    def val_dataloader(self):\n",
    "        return torch.utils.data.DataLoader(\n",
    "            self.val_data, batch_size=self.batch_size, shuffle=False\n",
    "        )"
   ]
  },
  {
   "cell_type": "code",
   "execution_count": 68,
   "id": "59a4e5b3",
   "metadata": {},
   "outputs": [],
   "source": [
    "class ColaModel(pl.LightningModule):\n",
    "    def __init__(self, model_name=\"google/bert_uncased_L-2_H-128_A-2\",lr=1e-2):\n",
    "        super(ColaModel, self).__init__()\n",
    "        self.save_hyperparameters()\n",
    "        \n",
    "        self.bert = AutoModel.from_pretrained(model_name)\n",
    "        self.W = nn.Linear(self.bert.config.hidden_size,2)\n",
    "        self.num_classes=2\n",
    "        \n",
    "    def forward(self, input_ids, attention_mask):\n",
    "        outputs = self.bert(input_ids=input_ids,attention_mask=attention_mask)\n",
    "        \n",
    "        h_cls = outputs.last_hidden_state[:,0]\n",
    "        logits = self.W(h_cls)\n",
    "        return logits\n",
    "    \n",
    "    def training_step(self, batch, batch_idx):\n",
    "        logits = self.forward(batch[\"input_ids\"],batch[\"attention_mask\"])\n",
    "        loss = F.cross_entropy(logits, batch[\"label\"])\n",
    "        self.log(\"train_loss\",loss,prog_bar=True)\n",
    "        return loss\n",
    "    \n",
    "    def validation_step(self, batch, batch_idx):\n",
    "        logits = self.forward(batch['input_ids'],batch['attention_mask'])\n",
    "        loss = F.cross_entropy(logits,batch['label'])\n",
    "        _, preds = torch.max(logits,dim=1)\n",
    "        val_acc = accuracy_score(preds.cpu(), batch['label'].cpu())\n",
    "        val_acc = torch.tensor(val_acc)\n",
    "        self.log('val_loss',loss,prog_bar=True)\n",
    "        self.log('val_acc',val_acc,prog_bar=True)\n",
    "        \n",
    "    def configure_optimizers(self):\n",
    "        return torch.optim.Adam(self.parameters(), lr=self.hparams['lr'])"
   ]
  },
  {
   "cell_type": "code",
   "execution_count": 74,
   "id": "7b531049",
   "metadata": {},
   "outputs": [
    {
     "name": "stderr",
     "output_type": "stream",
     "text": [
      "/Users/andrewlee/anaconda3/lib/python3.11/site-packages/huggingface_hub/file_download.py:797: FutureWarning: `resume_download` is deprecated and will be removed in version 1.0.0. Downloads always resume when possible. If you want to force a new download, use `force_download=True`.\n",
      "  warnings.warn(\n",
      "GPU available: True (mps), used: True\n",
      "TPU available: False, using: 0 TPU cores\n",
      "HPU available: False, using: 0 HPUs\n"
     ]
    },
    {
     "data": {
      "application/vnd.jupyter.widget-view+json": {
       "model_id": "52c4edec590c4991855f769d5165be94",
       "version_major": 2,
       "version_minor": 0
      },
      "text/plain": [
       "Map:   0%|          | 0/8551 [00:00<?, ? examples/s]"
      ]
     },
     "metadata": {},
     "output_type": "display_data"
    },
    {
     "data": {
      "application/vnd.jupyter.widget-view+json": {
       "model_id": "5bb9a79f94fd4ae995a140359d349fcf",
       "version_major": 2,
       "version_minor": 0
      },
      "text/plain": [
       "Map:   0%|          | 0/1043 [00:00<?, ? examples/s]"
      ]
     },
     "metadata": {},
     "output_type": "display_data"
    },
    {
     "name": "stderr",
     "output_type": "stream",
     "text": [
      "\n",
      "  | Name | Type      | Params | Mode \n",
      "-------------------------------------------\n",
      "0 | bert | BertModel | 4.4 M  | eval \n",
      "1 | W    | Linear    | 258    | train\n",
      "-------------------------------------------\n",
      "4.4 M     Trainable params\n",
      "0         Non-trainable params\n",
      "4.4 M     Total params\n",
      "17.545    Total estimated model params size (MB)\n",
      "1         Modules in train mode\n",
      "48        Modules in eval mode\n"
     ]
    },
    {
     "data": {
      "application/vnd.jupyter.widget-view+json": {
       "model_id": "",
       "version_major": 2,
       "version_minor": 0
      },
      "text/plain": [
       "Sanity Checking: |                                          | 0/? [00:00<?, ?it/s]"
      ]
     },
     "metadata": {},
     "output_type": "display_data"
    },
    {
     "name": "stderr",
     "output_type": "stream",
     "text": [
      "/Users/andrewlee/anaconda3/lib/python3.11/site-packages/pytorch_lightning/trainer/connectors/data_connector.py:425: The 'val_dataloader' does not have many workers which may be a bottleneck. Consider increasing the value of the `num_workers` argument` to `num_workers=7` in the `DataLoader` to improve performance.\n",
      "/Users/andrewlee/anaconda3/lib/python3.11/site-packages/pytorch_lightning/trainer/connectors/data_connector.py:425: The 'train_dataloader' does not have many workers which may be a bottleneck. Consider increasing the value of the `num_workers` argument` to `num_workers=7` in the `DataLoader` to improve performance.\n"
     ]
    },
    {
     "data": {
      "application/vnd.jupyter.widget-view+json": {
       "model_id": "859bce52d5ec4e70beab0812d56e4203",
       "version_major": 2,
       "version_minor": 0
      },
      "text/plain": [
       "Training: |                                                 | 0/? [00:00<?, ?it/s]"
      ]
     },
     "metadata": {},
     "output_type": "display_data"
    },
    {
     "data": {
      "application/vnd.jupyter.widget-view+json": {
       "model_id": "",
       "version_major": 2,
       "version_minor": 0
      },
      "text/plain": [
       "Validation: |                                               | 0/? [00:00<?, ?it/s]"
      ]
     },
     "metadata": {},
     "output_type": "display_data"
    },
    {
     "name": "stderr",
     "output_type": "stream",
     "text": [
      "Metric val_loss improved. New best score: 0.618\n",
      "`Trainer.fit` stopped: `max_epochs=1` reached.\n"
     ]
    }
   ],
   "source": [
    "cola_data = DataModule()\n",
    "cola_model = ColaModel()\n",
    "\n",
    "checkpoint_callback = pl.callbacks.ModelCheckpoint(\n",
    "    dirpath=\"./models\",monitor=\"val_loss\",mode=\"min\"\n",
    "\n",
    ")\n",
    "\n",
    "early_stopping_callback = pl.callbacks.EarlyStopping(\n",
    "    monitor=\"val_loss\",patience=3,verbose=True,mode=\"min\"\n",
    ")\n",
    "\n",
    "trainer = pl.Trainer(\n",
    "    default_root_dir='logs',\n",
    "    #devices=torch.cuda.device_count(),\n",
    "    max_epochs=1,\n",
    "    fast_dev_run=False,\n",
    "    callbacks=[checkpoint_callback,early_stopping_callback]\n",
    ")\n",
    "trainer.fit(cola_model, cola_data)"
   ]
  },
  {
   "cell_type": "code",
   "execution_count": null,
   "id": "c7bcebc9",
   "metadata": {},
   "outputs": [],
   "source": []
  }
 ],
 "metadata": {
  "kernelspec": {
   "display_name": "Python 3 (ipykernel)",
   "language": "python",
   "name": "python3"
  },
  "language_info": {
   "codemirror_mode": {
    "name": "ipython",
    "version": 3
   },
   "file_extension": ".py",
   "mimetype": "text/x-python",
   "name": "python",
   "nbconvert_exporter": "python",
   "pygments_lexer": "ipython3",
   "version": "3.11.5"
  }
 },
 "nbformat": 4,
 "nbformat_minor": 5
}
