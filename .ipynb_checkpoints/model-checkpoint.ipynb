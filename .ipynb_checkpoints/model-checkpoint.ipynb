{
 "cells": [
  {
   "cell_type": "markdown",
   "id": "8a9392f4",
   "metadata": {},
   "source": [
    "# Dataset"
   ]
  },
  {
   "cell_type": "code",
   "execution_count": 21,
   "id": "91dbd3a8",
   "metadata": {},
   "outputs": [],
   "source": [
    "#hugging face datasets from https://huggingface.co/docs/datasets/en/quickstart\n",
    "#!pip install datasets\n",
    "#!pip install pytorch-lightning"
   ]
  },
  {
   "cell_type": "code",
   "execution_count": 15,
   "id": "31ce2643",
   "metadata": {},
   "outputs": [],
   "source": [
    "from datasets import load_dataset\n",
    "\n",
    "cola_dataset = load_dataset(\"glue\",\"cola\")"
   ]
  },
  {
   "cell_type": "code",
   "execution_count": 16,
   "id": "fd4c7029",
   "metadata": {},
   "outputs": [
    {
     "name": "stdout",
     "output_type": "stream",
     "text": [
      "DatasetDict({\n",
      "    train: Dataset({\n",
      "        features: ['sentence', 'label', 'idx'],\n",
      "        num_rows: 8551\n",
      "    })\n",
      "    validation: Dataset({\n",
      "        features: ['sentence', 'label', 'idx'],\n",
      "        num_rows: 1043\n",
      "    })\n",
      "    test: Dataset({\n",
      "        features: ['sentence', 'label', 'idx'],\n",
      "        num_rows: 1063\n",
      "    })\n",
      "})\n"
     ]
    }
   ],
   "source": [
    "print(cola_dataset)"
   ]
  },
  {
   "cell_type": "code",
   "execution_count": 17,
   "id": "63c1a1f9",
   "metadata": {},
   "outputs": [
    {
     "name": "stdout",
     "output_type": "stream",
     "text": [
      "{'sentence': \"Our friends won't buy this analysis, let alone the next one we propose.\", 'label': 1, 'idx': 0}\n"
     ]
    }
   ],
   "source": [
    "train_dataset = cola_dataset['train']\n",
    "print(train_dataset[0])"
   ]
  },
  {
   "cell_type": "code",
   "execution_count": 18,
   "id": "c21814a4",
   "metadata": {},
   "outputs": [
    {
     "data": {
      "text/plain": [
       "{'train': (8551, 3), 'validation': (1043, 3), 'test': (1063, 3)}"
      ]
     },
     "execution_count": 18,
     "metadata": {},
     "output_type": "execute_result"
    }
   ],
   "source": [
    "cola_dataset.shape"
   ]
  },
  {
   "cell_type": "markdown",
   "id": "22e81cbe",
   "metadata": {},
   "source": [
    "# Data Loader"
   ]
  },
  {
   "cell_type": "code",
   "execution_count": 23,
   "id": "c1d04e1c",
   "metadata": {},
   "outputs": [],
   "source": [
    "import pytorch_lightning as pl"
   ]
  },
  {
   "cell_type": "code",
   "execution_count": 27,
   "id": "caad13db",
   "metadata": {},
   "outputs": [],
   "source": [
    "class ColaModel(pl.LightningModule):\n",
    "    def __init__(self,model_name=\"google/bert_uncased_L-2_H-128_A-2\",batch_size=32):\n",
    "        super(ColaModel, self).__init__()\n",
    "        \n",
    "        self.batch_size = batch_size\n",
    "        self.tokenizer = AutoTokenizer.from_pretrained(model_name)\n",
    "    \n",
    "    def prepare_data(self):\n",
    "        cola_dataset = load_dataset(\"glue\",\"cola\")\n",
    "        self.train_data = cola_dataset[\"train\"]\n",
    "        self.val_data = cola_dataset['validation']\n",
    "    \n",
    "    def tokenize_data(self, example):\n",
    "        return self.tokenizer(\n",
    "            example[\"sentence\"],\n",
    "            truncation=True,\n",
    "            padding=\"max_length\",\n",
    "            max_length=256\n",
    "        )\n",
    "    \n",
    "    def setup(self, stage=None):\n",
    "        if stage == \"fit\" or stage is None:\n",
    "            self.train_data = self.train_data.map(self.tokenize_data, batched=True)\n",
    "            self.train_data.set_format(\n",
    "                type=\"torch\", columns=[\"inputs_ids\",\"attention_mask\",\"label\"]\n",
    "            )\n",
    "            \n",
    "            self.val_data = self.val_data.map(self.tokenize_data, batched=True)\n",
    "            self.val_data.set_format(\n",
    "                type=\"torch\", columns=[\"input_ids\", \"attention_mask\", \"label\"]\n",
    "            )\n",
    "    \n",
    "    def train_dataloader(self):\n",
    "        return torch.utils.data.DataLoader(\n",
    "            self.train_data, batch_size=self.batch_size, shuffle=True\n",
    "        )\n",
    "    \n",
    "    def val_dataloader(self):\n",
    "        return torch.utils.data.DataLoader(\n",
    "            self.val_data, batch_size=self.batch_size, shuffle=False\n",
    "        )"
   ]
  }
 ],
 "metadata": {
  "kernelspec": {
   "display_name": "Python 3 (ipykernel)",
   "language": "python",
   "name": "python3"
  },
  "language_info": {
   "codemirror_mode": {
    "name": "ipython",
    "version": 3
   },
   "file_extension": ".py",
   "mimetype": "text/x-python",
   "name": "python",
   "nbconvert_exporter": "python",
   "pygments_lexer": "ipython3",
   "version": "3.11.5"
  }
 },
 "nbformat": 4,
 "nbformat_minor": 5
}
